{
 "cells": [
  {
   "cell_type": "code",
   "execution_count": 84,
   "metadata": {
    "collapsed": true
   },
   "outputs": [],
   "source": [
    "#import modules\n",
    "import csv\n",
    "import pandas as pd"
   ]
  },
  {
   "cell_type": "code",
   "execution_count": 85,
   "metadata": {
    "collapsed": false
   },
   "outputs": [],
   "source": [
    "#source of data is basketball-reference.com located \"http://www.basketball-reference.com/playoffs/series.html\"\n",
    "#open csv file and read to dataframe\n",
    "df = pd.read_csv('NBA Playoffs data.csv', sep=',',skiprows = 1 ) #skip first row to get appropriate column headers\n",
    "df.rename(columns={'Team': 'Winner', 'Team.1': 'Loser','W': 'Winner #wins', 'W.1': 'Loser #wins'}, inplace=True)"
   ]
  },
  {
   "cell_type": "code",
   "execution_count": 86,
   "metadata": {
    "collapsed": false
   },
   "outputs": [
    {
     "data": {
      "text/html": [
       "<div>\n",
       "<table border=\"1\" class=\"dataframe\">\n",
       "  <thead>\n",
       "    <tr style=\"text-align: right;\">\n",
       "      <th></th>\n",
       "      <th>Yr</th>\n",
       "      <th>Lg</th>\n",
       "      <th>Series</th>\n",
       "      <th>Unnamed: 3</th>\n",
       "      <th>Unnamed: 4</th>\n",
       "      <th>Winner</th>\n",
       "      <th>Winner #wins</th>\n",
       "      <th>Unnamed: 7</th>\n",
       "      <th>Loser</th>\n",
       "      <th>Loser #wins</th>\n",
       "    </tr>\n",
       "  </thead>\n",
       "  <tbody>\n",
       "    <tr>\n",
       "      <th>0</th>\n",
       "      <td>2016</td>\n",
       "      <td>NBA</td>\n",
       "      <td>Eastern Conf First Round</td>\n",
       "      <td>Apr 17 - Apr 24 2016</td>\n",
       "      <td>NaN</td>\n",
       "      <td>Cleveland Cavaliers (1)</td>\n",
       "      <td>4</td>\n",
       "      <td>NaN</td>\n",
       "      <td>Detroit Pistons (8)</td>\n",
       "      <td>0</td>\n",
       "    </tr>\n",
       "    <tr>\n",
       "      <th>1</th>\n",
       "      <td>2016</td>\n",
       "      <td>NBA</td>\n",
       "      <td>Eastern Conf First Round</td>\n",
       "      <td>Apr 16 - May 1 2016</td>\n",
       "      <td>NaN</td>\n",
       "      <td>Toronto Raptors (2)</td>\n",
       "      <td>4</td>\n",
       "      <td>NaN</td>\n",
       "      <td>Indiana Pacers (7)</td>\n",
       "      <td>3</td>\n",
       "    </tr>\n",
       "    <tr>\n",
       "      <th>2</th>\n",
       "      <td>2016</td>\n",
       "      <td>NBA</td>\n",
       "      <td>Eastern Conf First Round</td>\n",
       "      <td>Apr 17 - May 1 2016</td>\n",
       "      <td>NaN</td>\n",
       "      <td>Miami Heat (3)</td>\n",
       "      <td>4</td>\n",
       "      <td>NaN</td>\n",
       "      <td>Charlotte Hornets (6)</td>\n",
       "      <td>3</td>\n",
       "    </tr>\n",
       "    <tr>\n",
       "      <th>3</th>\n",
       "      <td>2016</td>\n",
       "      <td>NBA</td>\n",
       "      <td>Eastern Conf First Round</td>\n",
       "      <td>Apr 16 - Apr 28 2016</td>\n",
       "      <td>NaN</td>\n",
       "      <td>Atlanta Hawks (4)</td>\n",
       "      <td>4</td>\n",
       "      <td>NaN</td>\n",
       "      <td>Boston Celtics (5)</td>\n",
       "      <td>2</td>\n",
       "    </tr>\n",
       "    <tr>\n",
       "      <th>4</th>\n",
       "      <td>2016</td>\n",
       "      <td>NBA</td>\n",
       "      <td>Western Conf First Round</td>\n",
       "      <td>Apr 16 - Apr 27 2016</td>\n",
       "      <td>NaN</td>\n",
       "      <td>Golden State Warriors (1)</td>\n",
       "      <td>4</td>\n",
       "      <td>NaN</td>\n",
       "      <td>Houston Rockets (8)</td>\n",
       "      <td>1</td>\n",
       "    </tr>\n",
       "    <tr>\n",
       "      <th>5</th>\n",
       "      <td>2016</td>\n",
       "      <td>NBA</td>\n",
       "      <td>Western Conf First Round</td>\n",
       "      <td>Apr 17 - Apr 24 2016</td>\n",
       "      <td>NaN</td>\n",
       "      <td>San Antonio Spurs (2)</td>\n",
       "      <td>4</td>\n",
       "      <td>NaN</td>\n",
       "      <td>Memphis Grizzlies (7)</td>\n",
       "      <td>0</td>\n",
       "    </tr>\n",
       "    <tr>\n",
       "      <th>6</th>\n",
       "      <td>2016</td>\n",
       "      <td>NBA</td>\n",
       "      <td>Western Conf First Round</td>\n",
       "      <td>Apr 16 - Apr 25 2016</td>\n",
       "      <td>NaN</td>\n",
       "      <td>Oklahoma City Thunder (3)</td>\n",
       "      <td>4</td>\n",
       "      <td>NaN</td>\n",
       "      <td>Dallas Mavericks (6)</td>\n",
       "      <td>1</td>\n",
       "    </tr>\n",
       "    <tr>\n",
       "      <th>7</th>\n",
       "      <td>2016</td>\n",
       "      <td>NBA</td>\n",
       "      <td>Western Conf First Round</td>\n",
       "      <td>Apr 17 - Apr 29 2016</td>\n",
       "      <td>NaN</td>\n",
       "      <td>Portland Trail Blazers (5)</td>\n",
       "      <td>4</td>\n",
       "      <td>NaN</td>\n",
       "      <td>Los Angeles Clippers (4)</td>\n",
       "      <td>2</td>\n",
       "    </tr>\n",
       "    <tr>\n",
       "      <th>8</th>\n",
       "      <td>2016</td>\n",
       "      <td>NBA</td>\n",
       "      <td>Eastern Conf Semifinals</td>\n",
       "      <td>May 2 - May 8 2016</td>\n",
       "      <td>NaN</td>\n",
       "      <td>Cleveland Cavaliers (1)</td>\n",
       "      <td>4</td>\n",
       "      <td>NaN</td>\n",
       "      <td>Atlanta Hawks (4)</td>\n",
       "      <td>0</td>\n",
       "    </tr>\n",
       "    <tr>\n",
       "      <th>9</th>\n",
       "      <td>2016</td>\n",
       "      <td>NBA</td>\n",
       "      <td>Eastern Conf Semifinals</td>\n",
       "      <td>May 3 - May 15 2016</td>\n",
       "      <td>NaN</td>\n",
       "      <td>Toronto Raptors (2)</td>\n",
       "      <td>4</td>\n",
       "      <td>NaN</td>\n",
       "      <td>Miami Heat (3)</td>\n",
       "      <td>3</td>\n",
       "    </tr>\n",
       "    <tr>\n",
       "      <th>10</th>\n",
       "      <td>2016</td>\n",
       "      <td>NBA</td>\n",
       "      <td>Western Conf Semifinals</td>\n",
       "      <td>May 1 - May 11 2016</td>\n",
       "      <td>NaN</td>\n",
       "      <td>Golden State Warriors (1)</td>\n",
       "      <td>4</td>\n",
       "      <td>NaN</td>\n",
       "      <td>Portland Trail Blazers (5)</td>\n",
       "      <td>1</td>\n",
       "    </tr>\n",
       "    <tr>\n",
       "      <th>11</th>\n",
       "      <td>2016</td>\n",
       "      <td>NBA</td>\n",
       "      <td>Western Conf Semifinals</td>\n",
       "      <td>Apr 30 - May 12 2016</td>\n",
       "      <td>NaN</td>\n",
       "      <td>Oklahoma City Thunder (3)</td>\n",
       "      <td>4</td>\n",
       "      <td>NaN</td>\n",
       "      <td>San Antonio Spurs (2)</td>\n",
       "      <td>2</td>\n",
       "    </tr>\n",
       "    <tr>\n",
       "      <th>12</th>\n",
       "      <td>2016</td>\n",
       "      <td>NBA</td>\n",
       "      <td>Eastern Conf Finals</td>\n",
       "      <td>May 17 - May 27 2016</td>\n",
       "      <td>NaN</td>\n",
       "      <td>Cleveland Cavaliers (1)</td>\n",
       "      <td>4</td>\n",
       "      <td>NaN</td>\n",
       "      <td>Toronto Raptors (2)</td>\n",
       "      <td>2</td>\n",
       "    </tr>\n",
       "    <tr>\n",
       "      <th>13</th>\n",
       "      <td>2016</td>\n",
       "      <td>NBA</td>\n",
       "      <td>Western Conf Finals</td>\n",
       "      <td>May 16 - May 30 2016</td>\n",
       "      <td>NaN</td>\n",
       "      <td>Golden State Warriors (1)</td>\n",
       "      <td>4</td>\n",
       "      <td>NaN</td>\n",
       "      <td>Oklahoma City Thunder (3)</td>\n",
       "      <td>3</td>\n",
       "    </tr>\n",
       "    <tr>\n",
       "      <th>14</th>\n",
       "      <td>2016</td>\n",
       "      <td>NBA</td>\n",
       "      <td>Finals</td>\n",
       "      <td>Jun 2 - Jun 19 2016</td>\n",
       "      <td>NaN</td>\n",
       "      <td>Cleveland Cavaliers (1)</td>\n",
       "      <td>4</td>\n",
       "      <td>NaN</td>\n",
       "      <td>Golden State Warriors (1)</td>\n",
       "      <td>3</td>\n",
       "    </tr>\n",
       "  </tbody>\n",
       "</table>\n",
       "</div>"
      ],
      "text/plain": [
       "      Yr   Lg                    Series            Unnamed: 3  Unnamed: 4  \\\n",
       "0   2016  NBA  Eastern Conf First Round  Apr 17 - Apr 24 2016         NaN   \n",
       "1   2016  NBA  Eastern Conf First Round   Apr 16 - May 1 2016         NaN   \n",
       "2   2016  NBA  Eastern Conf First Round   Apr 17 - May 1 2016         NaN   \n",
       "3   2016  NBA  Eastern Conf First Round  Apr 16 - Apr 28 2016         NaN   \n",
       "4   2016  NBA  Western Conf First Round  Apr 16 - Apr 27 2016         NaN   \n",
       "5   2016  NBA  Western Conf First Round  Apr 17 - Apr 24 2016         NaN   \n",
       "6   2016  NBA  Western Conf First Round  Apr 16 - Apr 25 2016         NaN   \n",
       "7   2016  NBA  Western Conf First Round  Apr 17 - Apr 29 2016         NaN   \n",
       "8   2016  NBA   Eastern Conf Semifinals    May 2 - May 8 2016         NaN   \n",
       "9   2016  NBA   Eastern Conf Semifinals   May 3 - May 15 2016         NaN   \n",
       "10  2016  NBA   Western Conf Semifinals   May 1 - May 11 2016         NaN   \n",
       "11  2016  NBA   Western Conf Semifinals  Apr 30 - May 12 2016         NaN   \n",
       "12  2016  NBA       Eastern Conf Finals  May 17 - May 27 2016         NaN   \n",
       "13  2016  NBA       Western Conf Finals  May 16 - May 30 2016         NaN   \n",
       "14  2016  NBA                    Finals   Jun 2 - Jun 19 2016         NaN   \n",
       "\n",
       "                        Winner  Winner #wins  Unnamed: 7  \\\n",
       "0      Cleveland Cavaliers (1)             4         NaN   \n",
       "1          Toronto Raptors (2)             4         NaN   \n",
       "2               Miami Heat (3)             4         NaN   \n",
       "3            Atlanta Hawks (4)             4         NaN   \n",
       "4    Golden State Warriors (1)             4         NaN   \n",
       "5        San Antonio Spurs (2)             4         NaN   \n",
       "6    Oklahoma City Thunder (3)             4         NaN   \n",
       "7   Portland Trail Blazers (5)             4         NaN   \n",
       "8      Cleveland Cavaliers (1)             4         NaN   \n",
       "9          Toronto Raptors (2)             4         NaN   \n",
       "10   Golden State Warriors (1)             4         NaN   \n",
       "11   Oklahoma City Thunder (3)             4         NaN   \n",
       "12     Cleveland Cavaliers (1)             4         NaN   \n",
       "13   Golden State Warriors (1)             4         NaN   \n",
       "14     Cleveland Cavaliers (1)             4         NaN   \n",
       "\n",
       "                         Loser  Loser #wins  \n",
       "0          Detroit Pistons (8)            0  \n",
       "1           Indiana Pacers (7)            3  \n",
       "2        Charlotte Hornets (6)            3  \n",
       "3           Boston Celtics (5)            2  \n",
       "4          Houston Rockets (8)            1  \n",
       "5        Memphis Grizzlies (7)            0  \n",
       "6         Dallas Mavericks (6)            1  \n",
       "7     Los Angeles Clippers (4)            2  \n",
       "8            Atlanta Hawks (4)            0  \n",
       "9               Miami Heat (3)            3  \n",
       "10  Portland Trail Blazers (5)            1  \n",
       "11       San Antonio Spurs (2)            2  \n",
       "12         Toronto Raptors (2)            2  \n",
       "13   Oklahoma City Thunder (3)            3  \n",
       "14   Golden State Warriors (1)            3  "
      ]
     },
     "execution_count": 86,
     "metadata": {},
     "output_type": "execute_result"
    }
   ],
   "source": [
    "df.head(15)"
   ]
  },
  {
   "cell_type": "markdown",
   "metadata": {},
   "source": [
    "### Lets look at only NBA Finals Games and some of the important columns"
   ]
  },
  {
   "cell_type": "code",
   "execution_count": 87,
   "metadata": {
    "collapsed": false
   },
   "outputs": [
    {
     "data": {
      "text/html": [
       "<div>\n",
       "<table border=\"1\" class=\"dataframe\">\n",
       "  <thead>\n",
       "    <tr style=\"text-align: right;\">\n",
       "      <th></th>\n",
       "      <th>Winner</th>\n",
       "      <th>Winner #wins</th>\n",
       "      <th>Loser</th>\n",
       "      <th>Loser #wins</th>\n",
       "      <th>Total_Games</th>\n",
       "    </tr>\n",
       "  </thead>\n",
       "  <tbody>\n",
       "    <tr>\n",
       "      <th>0</th>\n",
       "      <td>Cleveland Cavaliers (1)</td>\n",
       "      <td>4</td>\n",
       "      <td>Golden State Warriors (1)</td>\n",
       "      <td>3</td>\n",
       "      <td>7</td>\n",
       "    </tr>\n",
       "    <tr>\n",
       "      <th>1</th>\n",
       "      <td>Golden State Warriors (1)</td>\n",
       "      <td>4</td>\n",
       "      <td>Cleveland Cavaliers (2)</td>\n",
       "      <td>2</td>\n",
       "      <td>6</td>\n",
       "    </tr>\n",
       "    <tr>\n",
       "      <th>2</th>\n",
       "      <td>San Antonio Spurs (1)</td>\n",
       "      <td>4</td>\n",
       "      <td>Miami Heat (2)</td>\n",
       "      <td>1</td>\n",
       "      <td>5</td>\n",
       "    </tr>\n",
       "    <tr>\n",
       "      <th>3</th>\n",
       "      <td>Miami Heat (1)</td>\n",
       "      <td>4</td>\n",
       "      <td>San Antonio Spurs (2)</td>\n",
       "      <td>3</td>\n",
       "      <td>7</td>\n",
       "    </tr>\n",
       "    <tr>\n",
       "      <th>4</th>\n",
       "      <td>Miami Heat (2)</td>\n",
       "      <td>4</td>\n",
       "      <td>Oklahoma City Thunder (2)</td>\n",
       "      <td>1</td>\n",
       "      <td>5</td>\n",
       "    </tr>\n",
       "  </tbody>\n",
       "</table>\n",
       "</div>"
      ],
      "text/plain": [
       "                      Winner  Winner #wins                      Loser  \\\n",
       "0    Cleveland Cavaliers (1)             4  Golden State Warriors (1)   \n",
       "1  Golden State Warriors (1)             4    Cleveland Cavaliers (2)   \n",
       "2      San Antonio Spurs (1)             4             Miami Heat (2)   \n",
       "3             Miami Heat (1)             4      San Antonio Spurs (2)   \n",
       "4             Miami Heat (2)             4  Oklahoma City Thunder (2)   \n",
       "\n",
       "   Loser #wins  Total_Games  \n",
       "0            3            7  \n",
       "1            2            6  \n",
       "2            1            5  \n",
       "3            3            7  \n",
       "4            1            5  "
      ]
     },
     "execution_count": 87,
     "metadata": {},
     "output_type": "execute_result"
    }
   ],
   "source": [
    "finals_df = df[df.Series =='Finals'] #get only finals games\n",
    "finals_df = finals_df[['Winner','Winner #wins','Loser','Loser #wins']] #get only necessary columns\n",
    "finals_df['Total_Games'] = finals_df['Winner #wins'] + finals_df['Loser #wins'] #create a new column showing total games played in each series\n",
    "finals_df.index = range (0,76,1) #reset index\n",
    "finals_df.head()"
   ]
  },
  {
   "cell_type": "markdown",
   "metadata": {},
   "source": [
    "### Lets calculate the percentages for each possible series length"
   ]
  },
  {
   "cell_type": "code",
   "execution_count": 88,
   "metadata": {
    "collapsed": false
   },
   "outputs": [
    {
     "name": "stdout",
     "output_type": "stream",
     "text": [
      "NBA finals series went to 4-games, 10.5% of the time\n",
      "NBA finals series went to 5-games, 25.0% of the time\n",
      "NBA finals series went to 6-games, 35.5% of the time\n",
      "NBA finals series went to 7-games, 28.9% of the time\n"
     ]
    }
   ],
   "source": [
    "for i in range(4,8): #iterate through the 4 possibilities (4-game, 5-game, 6-game and 7-game series)\n",
    "    #count each outcome and divide it by the total number of nba finals series, 76 (years 1950 to 2016)\n",
    "    no_of_games = float(finals_df[finals_df.Total_Games ==i]['Total_Games'].size)/76.\n",
    "    print \"NBA finals series went to %i-games, \"%(i)+'{percent:.1%}'.format(percent = no_of_games)+\" of the time\""
   ]
  },
  {
   "cell_type": "markdown",
   "metadata": {},
   "source": [
    "### It looks like a 6-game NBA finals series are most common over the last 76 years. If we limit the time period to the last 25 years.."
   ]
  },
  {
   "cell_type": "code",
   "execution_count": 89,
   "metadata": {
    "collapsed": false
   },
   "outputs": [
    {
     "name": "stderr",
     "output_type": "stream",
     "text": [
      "/anaconda/lib/python2.7/site-packages/ipykernel/__main__.py:1: UserWarning: Boolean Series key will be reindexed to match DataFrame index.\n",
      "  if __name__ == '__main__':\n"
     ]
    },
    {
     "data": {
      "text/html": [
       "<div>\n",
       "<table border=\"1\" class=\"dataframe\">\n",
       "  <thead>\n",
       "    <tr style=\"text-align: right;\">\n",
       "      <th></th>\n",
       "      <th>Winner</th>\n",
       "      <th>Winner #wins</th>\n",
       "      <th>Loser</th>\n",
       "      <th>Loser #wins</th>\n",
       "      <th>Total_Games</th>\n",
       "    </tr>\n",
       "  </thead>\n",
       "  <tbody>\n",
       "    <tr>\n",
       "      <th>0</th>\n",
       "      <td>Cleveland Cavaliers (1)</td>\n",
       "      <td>4</td>\n",
       "      <td>Golden State Warriors (1)</td>\n",
       "      <td>3</td>\n",
       "      <td>7</td>\n",
       "    </tr>\n",
       "    <tr>\n",
       "      <th>1</th>\n",
       "      <td>Golden State Warriors (1)</td>\n",
       "      <td>4</td>\n",
       "      <td>Cleveland Cavaliers (2)</td>\n",
       "      <td>2</td>\n",
       "      <td>6</td>\n",
       "    </tr>\n",
       "    <tr>\n",
       "      <th>2</th>\n",
       "      <td>San Antonio Spurs (1)</td>\n",
       "      <td>4</td>\n",
       "      <td>Miami Heat (2)</td>\n",
       "      <td>1</td>\n",
       "      <td>5</td>\n",
       "    </tr>\n",
       "    <tr>\n",
       "      <th>3</th>\n",
       "      <td>Miami Heat (1)</td>\n",
       "      <td>4</td>\n",
       "      <td>San Antonio Spurs (2)</td>\n",
       "      <td>3</td>\n",
       "      <td>7</td>\n",
       "    </tr>\n",
       "    <tr>\n",
       "      <th>4</th>\n",
       "      <td>Miami Heat (2)</td>\n",
       "      <td>4</td>\n",
       "      <td>Oklahoma City Thunder (2)</td>\n",
       "      <td>1</td>\n",
       "      <td>5</td>\n",
       "    </tr>\n",
       "  </tbody>\n",
       "</table>\n",
       "</div>"
      ],
      "text/plain": [
       "                      Winner  Winner #wins                      Loser  \\\n",
       "0    Cleveland Cavaliers (1)             4  Golden State Warriors (1)   \n",
       "1  Golden State Warriors (1)             4    Cleveland Cavaliers (2)   \n",
       "2      San Antonio Spurs (1)             4             Miami Heat (2)   \n",
       "3             Miami Heat (1)             4      San Antonio Spurs (2)   \n",
       "4             Miami Heat (2)             4  Oklahoma City Thunder (2)   \n",
       "\n",
       "   Loser #wins  Total_Games  \n",
       "0            3            7  \n",
       "1            2            6  \n",
       "2            1            5  \n",
       "3            3            7  \n",
       "4            1            5  "
      ]
     },
     "execution_count": 89,
     "metadata": {},
     "output_type": "execute_result"
    }
   ],
   "source": [
    "finals_df_25 = df[df.Yr>1991][df.Series =='Finals']\n",
    "finals_df_25 = finals_df_25[['Winner','Winner #wins','Loser','Loser #wins']] #get only necessary columns\n",
    "finals_df_25['Total_Games'] = finals_df_25['Winner #wins'] + finals_df_25['Loser #wins']\\\n",
    "#create a new column showing total games played in each series\n",
    "finals_df_25.index = range (0,25,1) #reset index\n",
    "finals_df_25.head()"
   ]
  },
  {
   "cell_type": "code",
   "execution_count": 90,
   "metadata": {
    "collapsed": false
   },
   "outputs": [
    {
     "name": "stdout",
     "output_type": "stream",
     "text": [
      "NBA finals series went to 4-games, 12.0% of the time\n",
      "NBA finals series went to 5-games, 24.0% of the time\n",
      "NBA finals series went to 6-games, 44.0% of the time\n",
      "NBA finals series went to 7-games, 20.0% of the time\n"
     ]
    }
   ],
   "source": [
    "for i in range(4,8): #iterate through the 4 possibilities (4-game, 5-game, 6-game and 7-game series)\n",
    "    #count each outcome and divide it by the total number of nba finals series, 26 (years 1990 to 2016)\n",
    "    no_of_games = float(finals_df_25[finals_df_25.Total_Games ==i]['Total_Games'].size)/25.\n",
    "    print \"NBA finals series went to %i-games, \"%(i)+'{percent:.1%}'.format(percent = no_of_games)+\" of the time\""
   ]
  },
  {
   "cell_type": "markdown",
   "metadata": {},
   "source": [
    "### A 6-game NBA finals series is even more common!"
   ]
  },
  {
   "cell_type": "markdown",
   "metadata": {},
   "source": [
    "### Now let's switch gears and look at the number of total wins and championships by team"
   ]
  },
  {
   "cell_type": "code",
   "execution_count": 91,
   "metadata": {
    "collapsed": false
   },
   "outputs": [
    {
     "data": {
      "text/html": [
       "<div>\n",
       "<table border=\"1\" class=\"dataframe\">\n",
       "  <thead>\n",
       "    <tr style=\"text-align: right;\">\n",
       "      <th></th>\n",
       "      <th>Winner #wins</th>\n",
       "    </tr>\n",
       "    <tr>\n",
       "      <th>Winner</th>\n",
       "      <th></th>\n",
       "    </tr>\n",
       "  </thead>\n",
       "  <tbody>\n",
       "    <tr>\n",
       "      <th>Boston Celtics (1)</th>\n",
       "      <td>56</td>\n",
       "    </tr>\n",
       "    <tr>\n",
       "      <th>Los Angeles Lakers (1)</th>\n",
       "      <td>36</td>\n",
       "    </tr>\n",
       "    <tr>\n",
       "      <th>Chicago Bulls (1)</th>\n",
       "      <td>20</td>\n",
       "    </tr>\n",
       "    <tr>\n",
       "      <th>San Antonio Spurs (1)</th>\n",
       "      <td>12</td>\n",
       "    </tr>\n",
       "    <tr>\n",
       "      <th>Minneapolis Lakers (2)</th>\n",
       "      <td>8</td>\n",
       "    </tr>\n",
       "  </tbody>\n",
       "</table>\n",
       "</div>"
      ],
      "text/plain": [
       "                        Winner #wins\n",
       "Winner                              \n",
       "Boston Celtics (1)                56\n",
       "Los Angeles Lakers (1)            36\n",
       "Chicago Bulls (1)                 20\n",
       "San Antonio Spurs (1)             12\n",
       "Minneapolis Lakers (2)             8"
      ]
     },
     "execution_count": 91,
     "metadata": {},
     "output_type": "execute_result"
    }
   ],
   "source": [
    "finals_df[['Winner','Winner #wins']].groupby(by='Winner')\\\n",
    "    .sum().sort_values(by='Winner #wins',ascending = False).head()"
   ]
  },
  {
   "cell_type": "markdown",
   "metadata": {},
   "source": [
    "### This shows the number of wins by the series winner. We need to remove the numbers after the team name, which represents the conference standing at the end of the regular season so that the #wins data rolls up by team properly."
   ]
  },
  {
   "cell_type": "code",
   "execution_count": 92,
   "metadata": {
    "collapsed": false
   },
   "outputs": [
    {
     "data": {
      "text/html": [
       "<div>\n",
       "<table border=\"1\" class=\"dataframe\">\n",
       "  <thead>\n",
       "    <tr style=\"text-align: right;\">\n",
       "      <th></th>\n",
       "      <th>Winner</th>\n",
       "      <th>Winner #wins</th>\n",
       "      <th>Loser</th>\n",
       "      <th>Loser #wins</th>\n",
       "      <th>Total_Games</th>\n",
       "    </tr>\n",
       "  </thead>\n",
       "  <tbody>\n",
       "    <tr>\n",
       "      <th>0</th>\n",
       "      <td>Cleveland Cavaliers</td>\n",
       "      <td>4</td>\n",
       "      <td>Golden State Warriors</td>\n",
       "      <td>3</td>\n",
       "      <td>7</td>\n",
       "    </tr>\n",
       "    <tr>\n",
       "      <th>1</th>\n",
       "      <td>Golden State Warriors</td>\n",
       "      <td>4</td>\n",
       "      <td>Cleveland Cavaliers</td>\n",
       "      <td>2</td>\n",
       "      <td>6</td>\n",
       "    </tr>\n",
       "    <tr>\n",
       "      <th>2</th>\n",
       "      <td>San Antonio Spurs</td>\n",
       "      <td>4</td>\n",
       "      <td>Miami Heat</td>\n",
       "      <td>1</td>\n",
       "      <td>5</td>\n",
       "    </tr>\n",
       "    <tr>\n",
       "      <th>3</th>\n",
       "      <td>Miami Heat</td>\n",
       "      <td>4</td>\n",
       "      <td>San Antonio Spurs</td>\n",
       "      <td>3</td>\n",
       "      <td>7</td>\n",
       "    </tr>\n",
       "    <tr>\n",
       "      <th>4</th>\n",
       "      <td>Miami Heat</td>\n",
       "      <td>4</td>\n",
       "      <td>Oklahoma City Thunder</td>\n",
       "      <td>1</td>\n",
       "      <td>5</td>\n",
       "    </tr>\n",
       "  </tbody>\n",
       "</table>\n",
       "</div>"
      ],
      "text/plain": [
       "                  Winner  Winner #wins                  Loser  Loser #wins  \\\n",
       "0    Cleveland Cavaliers             4  Golden State Warriors            3   \n",
       "1  Golden State Warriors             4    Cleveland Cavaliers            2   \n",
       "2      San Antonio Spurs             4             Miami Heat            1   \n",
       "3             Miami Heat             4      San Antonio Spurs            3   \n",
       "4             Miami Heat             4  Oklahoma City Thunder            1   \n",
       "\n",
       "   Total_Games  \n",
       "0            7  \n",
       "1            6  \n",
       "2            5  \n",
       "3            7  \n",
       "4            5  "
      ]
     },
     "execution_count": 92,
     "metadata": {},
     "output_type": "execute_result"
    }
   ],
   "source": [
    "finals_df_no_seed = finals_df.copy()\n",
    "for col_name in ['Winner','Loser']:\n",
    "    finals_df_no_seed[col_name] = finals_df_no_seed[col_name].map(lambda x: x[:-4])\n",
    "finals_df_no_seed.head()"
   ]
  },
  {
   "cell_type": "markdown",
   "metadata": {},
   "source": [
    "### Lets now calculated the total # of wins for each team (both as a series winner/loser)"
   ]
  },
  {
   "cell_type": "code",
   "execution_count": 93,
   "metadata": {
    "collapsed": false
   },
   "outputs": [
    {
     "data": {
      "text/html": [
       "<div>\n",
       "<table border=\"1\" class=\"dataframe\">\n",
       "  <thead>\n",
       "    <tr style=\"text-align: right;\">\n",
       "      <th></th>\n",
       "      <th>Total Wins</th>\n",
       "    </tr>\n",
       "  </thead>\n",
       "  <tbody>\n",
       "    <tr>\n",
       "      <th>Boston Celtics</th>\n",
       "      <td>77.0</td>\n",
       "    </tr>\n",
       "    <tr>\n",
       "      <th>Los Angeles Lakers</th>\n",
       "      <td>69.0</td>\n",
       "    </tr>\n",
       "    <tr>\n",
       "      <th>Chicago Bulls</th>\n",
       "      <td>24.0</td>\n",
       "    </tr>\n",
       "    <tr>\n",
       "      <th>San Antonio Spurs</th>\n",
       "      <td>23.0</td>\n",
       "    </tr>\n",
       "    <tr>\n",
       "      <th>New York Knicks</th>\n",
       "      <td>20.0</td>\n",
       "    </tr>\n",
       "  </tbody>\n",
       "</table>\n",
       "</div>"
      ],
      "text/plain": [
       "                    Total Wins\n",
       "Boston Celtics            77.0\n",
       "Los Angeles Lakers        69.0\n",
       "Chicago Bulls             24.0\n",
       "San Antonio Spurs         23.0\n",
       "New York Knicks           20.0"
      ]
     },
     "execution_count": 93,
     "metadata": {},
     "output_type": "execute_result"
    }
   ],
   "source": [
    "winner_grouped = finals_df_no_seed[['Winner','Winner #wins']].groupby(by='Winner')\n",
    "loser_grouped = finals_df_no_seed[['Loser','Loser #wins']].groupby(by='Loser')\n",
    "loser_grouped.sum()['Loser #wins'].add(winner_grouped.sum()['Winner #wins'],fill_value = 0).to_frame('Total Wins')\\\n",
    "    .sort_values('Total Wins', ascending = False).head()\n",
    "    "
   ]
  },
  {
   "cell_type": "markdown",
   "metadata": {},
   "source": [
    "### So Celtics have won the most games in finals matchups, and they've won the most championships."
   ]
  },
  {
   "cell_type": "code",
   "execution_count": 94,
   "metadata": {
    "collapsed": false
   },
   "outputs": [
    {
     "data": {
      "text/html": [
       "<div>\n",
       "<table border=\"1\" class=\"dataframe\">\n",
       "  <thead>\n",
       "    <tr style=\"text-align: right;\">\n",
       "      <th></th>\n",
       "      <th>Winner #wins</th>\n",
       "    </tr>\n",
       "    <tr>\n",
       "      <th>Winner</th>\n",
       "      <th></th>\n",
       "    </tr>\n",
       "  </thead>\n",
       "  <tbody>\n",
       "    <tr>\n",
       "      <th>Boston Celtics</th>\n",
       "      <td>17</td>\n",
       "    </tr>\n",
       "    <tr>\n",
       "      <th>Los Angeles Lakers</th>\n",
       "      <td>11</td>\n",
       "    </tr>\n",
       "    <tr>\n",
       "      <th>Chicago Bulls</th>\n",
       "      <td>6</td>\n",
       "    </tr>\n",
       "    <tr>\n",
       "      <th>San Antonio Spurs</th>\n",
       "      <td>5</td>\n",
       "    </tr>\n",
       "    <tr>\n",
       "      <th>Minneapolis Lakers</th>\n",
       "      <td>4</td>\n",
       "    </tr>\n",
       "  </tbody>\n",
       "</table>\n",
       "</div>"
      ],
      "text/plain": [
       "                    Winner #wins\n",
       "Winner                          \n",
       "Boston Celtics                17\n",
       "Los Angeles Lakers            11\n",
       "Chicago Bulls                  6\n",
       "San Antonio Spurs              5\n",
       "Minneapolis Lakers             4"
      ]
     },
     "execution_count": 94,
     "metadata": {},
     "output_type": "execute_result"
    }
   ],
   "source": [
    "finals_df_no_seed[['Winner','Winner #wins']].groupby(by='Winner')\\\n",
    "    .count().sort_values(by='Winner #wins',ascending = False).head(5)"
   ]
  },
  {
   "cell_type": "markdown",
   "metadata": {},
   "source": [
    "### It is interesting to note that the LA Lakers have lost more finals series than they've won since they moved from Minneapolis to LA - 11 series wins and 14 series losses (44% winning percentage). "
   ]
  },
  {
   "cell_type": "code",
   "execution_count": 95,
   "metadata": {
    "collapsed": false
   },
   "outputs": [
    {
     "data": {
      "text/html": [
       "<div>\n",
       "<table border=\"1\" class=\"dataframe\">\n",
       "  <thead>\n",
       "    <tr style=\"text-align: right;\">\n",
       "      <th></th>\n",
       "      <th>Loser #wins</th>\n",
       "    </tr>\n",
       "    <tr>\n",
       "      <th>Loser</th>\n",
       "      <th></th>\n",
       "    </tr>\n",
       "  </thead>\n",
       "  <tbody>\n",
       "    <tr>\n",
       "      <th>Los Angeles Lakers</th>\n",
       "      <td>14</td>\n",
       "    </tr>\n",
       "    <tr>\n",
       "      <th>New York Knicks</th>\n",
       "      <td>6</td>\n",
       "    </tr>\n",
       "    <tr>\n",
       "      <th>Boston Celtics</th>\n",
       "      <td>4</td>\n",
       "    </tr>\n",
       "    <tr>\n",
       "      <th>Philadelphia 76ers</th>\n",
       "      <td>4</td>\n",
       "    </tr>\n",
       "    <tr>\n",
       "      <th>St. Louis Hawks</th>\n",
       "      <td>3</td>\n",
       "    </tr>\n",
       "  </tbody>\n",
       "</table>\n",
       "</div>"
      ],
      "text/plain": [
       "                    Loser #wins\n",
       "Loser                          \n",
       "Los Angeles Lakers           14\n",
       "New York Knicks               6\n",
       "Boston Celtics                4\n",
       "Philadelphia 76ers            4\n",
       "St. Louis Hawks               3"
      ]
     },
     "execution_count": 95,
     "metadata": {},
     "output_type": "execute_result"
    }
   ],
   "source": [
    "finals_df_no_seed[['Loser','Loser #wins']].groupby(by='Loser')\\\n",
    "    .count().sort_values(by='Loser #wins',ascending = False).head(5)"
   ]
  },
  {
   "cell_type": "code",
   "execution_count": 96,
   "metadata": {
    "collapsed": false
   },
   "outputs": [
    {
     "data": {
      "text/html": [
       "<div>\n",
       "<table border=\"1\" class=\"dataframe\">\n",
       "  <thead>\n",
       "    <tr style=\"text-align: right;\">\n",
       "      <th></th>\n",
       "      <th>Winner #wins</th>\n",
       "    </tr>\n",
       "    <tr>\n",
       "      <th>Winner</th>\n",
       "      <th></th>\n",
       "    </tr>\n",
       "  </thead>\n",
       "  <tbody>\n",
       "    <tr>\n",
       "      <th>Minneapolis Lakers</th>\n",
       "      <td>4</td>\n",
       "    </tr>\n",
       "  </tbody>\n",
       "</table>\n",
       "</div>"
      ],
      "text/plain": [
       "                    Winner #wins\n",
       "Winner                          \n",
       "Minneapolis Lakers             4"
      ]
     },
     "execution_count": 96,
     "metadata": {},
     "output_type": "execute_result"
    }
   ],
   "source": [
    "finals_df_no_seed[['Winner','Winner #wins']].groupby(by='Winner').count()\\\n",
    "    .sort_values(by='Winner #wins',ascending = False)[4:5]"
   ]
  },
  {
   "cell_type": "code",
   "execution_count": 97,
   "metadata": {
    "collapsed": false
   },
   "outputs": [
    {
     "data": {
      "text/html": [
       "<div>\n",
       "<table border=\"1\" class=\"dataframe\">\n",
       "  <thead>\n",
       "    <tr style=\"text-align: right;\">\n",
       "      <th></th>\n",
       "      <th>Loser #wins</th>\n",
       "    </tr>\n",
       "    <tr>\n",
       "      <th>Loser</th>\n",
       "      <th></th>\n",
       "    </tr>\n",
       "  </thead>\n",
       "  <tbody>\n",
       "    <tr>\n",
       "      <th>Minneapolis Lakers</th>\n",
       "      <td>1</td>\n",
       "    </tr>\n",
       "  </tbody>\n",
       "</table>\n",
       "</div>"
      ],
      "text/plain": [
       "                    Loser #wins\n",
       "Loser                          \n",
       "Minneapolis Lakers            1"
      ]
     },
     "execution_count": 97,
     "metadata": {},
     "output_type": "execute_result"
    }
   ],
   "source": [
    "finals_df_no_seed[['Loser','Loser #wins']].groupby(by='Loser').count()\\\n",
    "    .sort_values(by='Loser #wins',ascending = False)[21:22]"
   ]
  },
  {
   "cell_type": "markdown",
   "metadata": {},
   "source": [
    "![](http://media.celebremix.com/5/celebrity/431/1333657330.jpg)"
   ]
  }
 ],
 "metadata": {
  "anaconda-cloud": {},
  "kernelspec": {
   "display_name": "Python [Root]",
   "language": "python",
   "name": "Python [Root]"
  },
  "language_info": {
   "codemirror_mode": {
    "name": "ipython",
    "version": 2
   },
   "file_extension": ".py",
   "mimetype": "text/x-python",
   "name": "python",
   "nbconvert_exporter": "python",
   "pygments_lexer": "ipython2",
   "version": "2.7.12"
  }
 },
 "nbformat": 4,
 "nbformat_minor": 0
}
